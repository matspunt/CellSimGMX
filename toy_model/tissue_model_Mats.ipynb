{
 "cells": [
  {
   "attachments": {},
   "cell_type": "markdown",
   "id": "99802f90",
   "metadata": {},
   "source": [
    "### Todo list\n",
    "\n",
    "- Implement neighbour lists\n",
    "- Make code more efficient\n",
    "- Implement proper units and not just dimensionless ones"
   ]
  },
  {
   "cell_type": "code",
   "execution_count": 27,
   "id": "d2ef3a13",
   "metadata": {},
   "outputs": [],
   "source": [
    "import numpy as np\n",
    "from sklearn.neighbors import NearestNeighbors\n",
    "import pylab as plt\n",
    "import MDAnalysis as md"
   ]
  },
  {
   "cell_type": "code",
   "execution_count": 3,
   "id": "2d93ff4f",
   "metadata": {},
   "outputs": [],
   "source": [
    "# particle itp\n",
    "\n",
    "particle_type = {'base':{'type':'base','knn':0.01,'r_vdw':0.05,'charge':0, 'mass':2}}\n",
    "\n",
    "\n",
    "# cell_itp\n",
    "\n",
    "cell_type = {'base':{'type':'base', 'kc':0.01, 'radius':2, 'num_particles': 50, \\\n",
    "                     'particle_type':'base','n_neighbors':6}}"
   ]
  },
  {
   "cell_type": "code",
   "execution_count": 4,
   "id": "32ee2406",
   "metadata": {},
   "outputs": [],
   "source": [
    "class Particle:\n",
    "    def __init__(self, index = None, cell_index = None, position = np.zeros(3), p_type =particle_type['base']):\n",
    "        \n",
    "        self.index = index\n",
    "        self.cell_index = cell_index\n",
    "        self.p_type = p_type\n",
    "        self.position = position\n",
    "        self.mass = p_type['mass']\n",
    "        self.r_vdw = p_type['r_vdw']"
   ]
  },
  {
   "cell_type": "code",
   "execution_count": 5,
   "id": "71fc6d5d",
   "metadata": {},
   "outputs": [],
   "source": [
    "class Cell:\n",
    "    def __init__(self, c_type = cell_type['base'], index = 0 , center_of_mass = np.zeros(3)):\n",
    "        self.index = index\n",
    "        self.c_type = c_type\n",
    "        self.num_particles = self.c_type['num_particles']\n",
    "        self.radius = self.c_type['radius']\n",
    "        self.center_of_mass = center_of_mass\n",
    "        self.n_neighbors = self.c_type['n_neighbors']\n",
    "        self.particles = []\n",
    "        \n",
    "    def create_cell(self, start_index = 0):\n",
    "        points = self.generate_initial_points()\n",
    "        self.create_particles(points = points,start_index = start_index)\n",
    "    \n",
    "    def generate_initial_points(self):\n",
    "        # Generate uniformly distributed points on the surface of a sphere using the Golden Spiral method\n",
    "        golden_ratio = (1 + np.sqrt(5)) / 2\n",
    "        theta = 2 * np.pi * np.arange(self.num_particles) / golden_ratio\n",
    "        z = np.linspace(1 - 1.0 / self.num_particles, 1.0 / self.num_particles - 1, self.num_particles)\n",
    "        radius = np.sqrt(1 - z * z)\n",
    "        points = np.zeros((self.num_particles, 3))\n",
    "        points[:, 0] = radius * np.cos(theta)\n",
    "        points[:, 1] = radius * np.sin(theta)\n",
    "        points[:, 2] = z\n",
    "        points *= self.radius\n",
    "        return points\n",
    "    \n",
    "    def create_particles(self, start_index, points, ):\n",
    "        for i, point in enumerate(points):\n",
    "            particle = Particle(index = start_index + i, \\\n",
    "                                cell_index = self.index,\\\n",
    "                                position = point + self.center_of_mass, \\\n",
    "                                p_type = particle_type[self.c_type['particle_type']])\n",
    "            self.particles.append(particle)"
   ]
  },
  {
   "cell_type": "code",
   "execution_count": 6,
   "id": "e59bd188",
   "metadata": {},
   "outputs": [],
   "source": [
    "class System:\n",
    "    def __init__(self, n_cells = 1, c_type ='base'):\n",
    "        self.n_cells = n_cells\n",
    "        self.c_type = cell_type[c_type]\n",
    "        largest_vdw_radius = max([particle_type[ptype]['r_vdw'] for ptype in particle_type])\n",
    "        self.largest_radius = max([cell_type[ctype]['radius'] for ctype in cell_type])\n",
    "        self.largest_num_particles = max([cell_type[ctype]['num_particles'] for ctype in cell_type])\n",
    "        self.cell_spacing = 1.5 * 2 * largest_vdw_radius + 2*self.largest_radius\n",
    "        self.box_spacing = 5 * largest_vdw_radius\n",
    "        self.vdw_cutoff = 1  #vdw_cutoff\n",
    "        self.vdw_epsilon = 0.001 #vdw_epsilon\n",
    "        self.vdw_sigma = 1 #vdw_sigma\n",
    "        self.cells = []\n",
    "        self.particles = []\n",
    "        self.positions = []\n",
    "        self.forces = []\n",
    "        self.centers_of_mass = np.zeros((self.n_cells,3))\n",
    "        self.cell_particle_indices = []\n",
    "        \n",
    "        # Create the system and the simulation box\n",
    "        self.create_system()\n",
    "        self.create_box()\n",
    "        # Create bonded_neighbor and bonded_central interactions\n",
    "        self.create_bonded_interactions()\n",
    "        # turn the stuff into arrays\n",
    "        self.bonded_central = np.array(self.bonded_central)\n",
    "        self.bonded_neighbor = np.array(self.bonded_neighbor)\n",
    "    \n",
    "    def create_system(self):\n",
    "        # Calculate grid size based on number of cells\n",
    "        grid_size = int(np.ceil(self.n_cells ** (1/3)))\n",
    "        \n",
    "        for i in range(grid_size):\n",
    "            for j in range(grid_size):\n",
    "                for k in range(grid_size):\n",
    "                    if len(self.cells) < self.n_cells:\n",
    "                        center_of_mass = [i * self.cell_spacing,\n",
    "                                          j * self.cell_spacing,\n",
    "                                          k * self.cell_spacing]\n",
    "                        self.centers_of_mass[len(self.cells)] = center_of_mass\n",
    "                        cell = Cell(c_type=self.c_type,\n",
    "                                    index = len(self.cells),\n",
    "                                    center_of_mass=center_of_mass)\n",
    "                        cell.create_cell(start_index = len(self.cells)*self.c_type['num_particles'])\n",
    "                        self.cells.append(cell)\n",
    "                        self.particles.extend(cell.particles)\n",
    "                        # Store particle indices for current cell\n",
    "                        self.cell_particle_indices.append([particle.index for particle in cell.particles])\n",
    "        # Initialize positions and forces arrays\n",
    "        n_particles = len(self.particles)\n",
    "        self.positions = np.zeros((n_particles, 3))\n",
    "        self.forces = np.zeros((n_particles, 3))\n",
    "        \n",
    "        # Set initial positions of particles\n",
    "        for i, particle in enumerate(self.particles):\n",
    "            self.positions[i] = particle.position\n",
    "    \n",
    "    def create_box(self):\n",
    "        grid_size = int(np.ceil(self.n_cells ** (1/3)))\n",
    "        \n",
    "        # Calculate box dimensions based on grid size and cell spacing\n",
    "        box_dimensions = np.array([grid_size, grid_size, grid_size]) * self.cell_spacing\n",
    "\n",
    "        # Add box spacing to box dimensions to ensure that box walls are away from outermost \n",
    "        # cell particles by box spacing distance\n",
    "        box_dimensions += 2 * self.box_spacing\n",
    "\n",
    "        # Calculate center of mass of system\n",
    "        system_center_of_mass = np.mean(self.positions, axis=0)\n",
    "\n",
    "        # Move system center of mass to box center\n",
    "        box_center = box_dimensions / 2\n",
    "        translation_vector = box_center - system_center_of_mass\n",
    "        self.positions += translation_vector\n",
    "        for cell in self.cells:\n",
    "            cell.center_of_mass += translation_vector\n",
    "            for particle in cell.particles:\n",
    "                particle.position += translation_vector\n",
    "\n",
    "        self.box_dimensions = box_dimensions\n",
    "        \n",
    "    def create_bonded_interactions(self):\n",
    "        # Initialize bonded_neighbor and bonded_central interactions\n",
    "        self.bonded_neighbor = []\n",
    "        self.bonded_central = []\n",
    "\n",
    "        # Loop over cells to create interactions\n",
    "        for cell in self.cells:\n",
    "            n_neighbors = cell.n_neighbors\n",
    "            # Create an array of particle positions for the current cell\n",
    "            positions = np.array([particle.position for particle in cell.particles])\n",
    "\n",
    "            # Find the N nearest neighbors for each particle in the current cell\n",
    "            nbrs = NearestNeighbors(n_neighbors=n_neighbors+1).fit(positions)\n",
    "            distances, indices = nbrs.kneighbors(positions)\n",
    "\n",
    "            # Loop over particles in the current cell to create interactions\n",
    "            for i, particle in enumerate(cell.particles):\n",
    "                # Create bonded_central interaction\n",
    "                kc = cell.c_type['kc']\n",
    "                r0 = cell.c_type['radius']\n",
    "                self.bonded_central.append([particle.index, -1, kc, r0])\n",
    "\n",
    "                # Create bonded_neighbor interactions\n",
    "                for j in indices[i][1:]:\n",
    "                    if particle.index < cell.particles[j].index:\n",
    "                        neighbor_particle = cell.particles[j]\n",
    "                        k = knn = particle.p_type['knn']\n",
    "                        r0 = 2*self.largest_radius /np.sqrt(self.largest_num_particles) \n",
    "                        #(particle.r_vdw + neighbor_particle.r_vdw) / 2\n",
    "                        self.bonded_neighbor.append([int(particle.index), int(neighbor_particle.index), k, r0])\n",
    "                    \n",
    "    def calculate_bonded_forces(self):\n",
    "        # Reset forces to zero\n",
    "        self.forces.fill(0)\n",
    "\n",
    "        # Calculate forces from bonded_central interactions\n",
    "        particle_indices = self.bonded_central[:, 0].astype(np.int64)\n",
    "        ks = self.bonded_central[:, 2]\n",
    "        r0s = self.bonded_central[:, 3]\n",
    "        particle_positions = self.positions[particle_indices]\n",
    "\n",
    "        # Update center of mass of each cell\n",
    "        cell_center_of_masses = np.array([np.mean(self.positions[cell_particle_indices], axis=0) \\\n",
    "                                          for cell_particle_indices in self.cell_particle_indices])\n",
    "        # Select center of mass for each particle in particle_indices\n",
    "        cell_center_of_masses = np.array([cell_center_of_masses[self.particles[i].cell_index] for i in particle_indices])\n",
    "        rijs = particle_positions - cell_center_of_masses\n",
    "        # Apply minimum image convention\n",
    "        rijs -= np.rint(rijs / self.box_dimensions) * self.box_dimensions\n",
    "        dijs = np.linalg.norm(rijs, axis=1)\n",
    "        fijs = -ks[:, None] * (dijs - r0s)[:, None] * rijs / dijs[:, None]\n",
    "        np.add.at(self.forces, particle_indices, fijs)\n",
    "\n",
    "        # Calculate forces from bonded_neighbor interactions\n",
    "        particle_indices = self.bonded_neighbor[:, 0].astype(np.int64)\n",
    "        neighbor_particle_indices = self.bonded_neighbor[:, 1].astype(np.int64)\n",
    "        ks = self.bonded_neighbor[:, 2]\n",
    "        r0s = self.bonded_neighbor[:, 3]\n",
    "        particle_positions = self.positions[particle_indices]\n",
    "        neighbor_particle_positions = self.positions[neighbor_particle_indices]\n",
    "        rijs = particle_positions - neighbor_particle_positions\n",
    "        # Apply minimum image convention\n",
    "        rijs -= np.rint(rijs / self.box_dimensions) * self.box_dimensions\n",
    "        dijs = np.linalg.norm(rijs, axis=1)\n",
    "        fijs = -ks[:, None] * (dijs - r0s)[:, None] * rijs / dijs[:, None]\n",
    "        np.add.at(self.forces, particle_indices, fijs)\n",
    "        np.subtract.at(self.forces, neighbor_particle_indices, fijs)\n",
    "\n",
    "        \n",
    "    def calculate_vdw_forces(self):\n",
    "        # Calculate pairwise distances between particles\n",
    "        rij = self.positions[:, np.newaxis, :] - self.positions[np.newaxis, :, :]\n",
    "        # Apply minimum image convention\n",
    "        rij -= np.rint(rij / self.box_dimensions) * self.box_dimensions\n",
    "        dij = np.linalg.norm(rij, axis=2)\n",
    "\n",
    "        # Calculate van der Waals forces\n",
    "        fij = np.zeros_like(rij)\n",
    "        mask = (dij > 0) & (dij < self.vdw_cutoff)\n",
    "        fij[mask] = 24 * self.vdw_epsilon * ((2 * (self.vdw_sigma / dij[mask]) ** 12) - \\\n",
    "                                             ((self.vdw_sigma / dij[mask]) ** 6))[:, np.newaxis] \\\n",
    "                                            * rij[mask] / dij[mask][:, np.newaxis]\n",
    "\n",
    "        # Sum van der Waals forces acting on each particle\n",
    "        vdw_forces = np.sum(fij, axis=1)\n",
    "\n",
    "        return vdw_forces\n",
    "\n",
    "    def potential_energy(self, verbose=False):\n",
    "        # Calculate potential energy from bonded_central interactions\n",
    "        particle_indices = self.bonded_central[:, 0].astype(int)\n",
    "        ks = self.bonded_central[:, 2]\n",
    "        r0s = self.bonded_central[:, 3]\n",
    "        particle_positions = self.positions[particle_indices]\n",
    "        cell_center_of_masses = np.array([self.cells[self.particles[i].cell_index].\\\n",
    "                                          center_of_mass for i in particle_indices])\n",
    "        #dijs = np.linalg.norm(particle_positions - cell_center_of_masses, axis=1)\n",
    "        rijs = particle_positions - cell_center_of_masses\n",
    "        # Apply minimum image convention\n",
    "        rijs -= np.rint(rijs / self.box_dimensions) * self.box_dimensions\n",
    "        dijs = np.linalg.norm(rijs, axis=1)\n",
    "        central_pe = 0.5 * np.sum(ks * (dijs - r0s) ** 2)\n",
    "        pe = 0.5 * np.sum(ks * (dijs - r0s) ** 2)\n",
    "\n",
    "        # Calculate potential energy from bonded_neighbor interactions\n",
    "        particle_indices = self.bonded_neighbor[:, 0].astype(int)\n",
    "        neighbor_particle_indices = self.bonded_neighbor[:, 1].astype(int)\n",
    "        ks = self.bonded_neighbor[:, 2]\n",
    "        r0s = self.bonded_neighbor[:, 3]\n",
    "        particle_positions = self.positions[particle_indices]\n",
    "        neighbor_particle_positions = self.positions[neighbor_particle_indices]\n",
    "        rijs = particle_positions - neighbor_particle_positions\n",
    "        # Apply minimum image convention\n",
    "        rijs -= np.rint(rijs / self.box_dimensions) * self.box_dimensions\n",
    "        dijs = np.linalg.norm(rijs, axis=1)\n",
    "        #dijs = np.linalg.norm(particle_positions - neighbor_particle_positions, axis=1)\n",
    "        bonded_pe = 0.5 * np.sum(ks * (dijs - r0s) ** 2)\n",
    "        pe += bonded_pe\n",
    "        \n",
    "        # Calculate van der Waals potential energy\n",
    "        rij = self.positions[:, np.newaxis, :] - self.positions[np.newaxis, :, :]\n",
    "        # Apply minimum image convention\n",
    "        rij -= np.rint(rij / self.box_dimensions) * self.box_dimensions\n",
    "        dij = np.linalg.norm(rij, axis=2)\n",
    "        mask = (dij > 0) & (dij < self.vdw_cutoff)\n",
    "        vdw_pe = 4 * self.vdw_epsilon * np.sum(((self.vdw_sigma / dij[mask]) ** 12) - \\\n",
    "                                               ((self.vdw_sigma / dij[mask]) ** 6))\n",
    "        pe += vdw_pe\n",
    "        if not verbose:\n",
    "            return pe\n",
    "        else: return pe, central_pe, bonded_pe, vdw_pe\n",
    "\n",
    "    \n",
    "    def kinetic_energy(self, velocities):\n",
    "        masses = np.array([particle.mass for particle in self.particles])\n",
    "        return 0.5 * np.sum(masses[:, None] * velocities ** 2)"
   ]
  },
  {
   "cell_type": "code",
   "execution_count": 7,
   "id": "35648e1b",
   "metadata": {},
   "outputs": [],
   "source": [
    "def minimize_energy(system, dt=0.0001, n_steps=1000, verbose=False):\n",
    "    energies = []\n",
    "    for step in range(n_steps):\n",
    "        # Calculate potential energy\n",
    "        pe = system.potential_energy()\n",
    "        energies.append(pe)\n",
    "\n",
    "        # Print current potential energy and step number if verbose is True\n",
    "        if verbose:\n",
    "            print(f\"Step: {step}, Potential Energy: {pe}\", end=\"\\r\")\n",
    "\n",
    "        # Calculate the forces acting on the particles\n",
    "        system.calculate_bonded_forces()\n",
    "        bonded_forces = system.forces\n",
    "        vdw_forces = system.calculate_vdw_forces()\n",
    "        forces = bonded_forces + vdw_forces\n",
    "\n",
    "        # Update the positions of the particles\n",
    "        system.positions += dt * forces\n",
    "\n",
    "    # Update center of mass of each cell\n",
    "    for cell in system.cells:\n",
    "        cell_center_of_mass = np.mean([particle.position for particle in cell.particles], axis=0)\n",
    "        cell.center_of_mass = cell_center_of_mass\n",
    "\n",
    "    # Update positions\n",
    "    for i, particle in enumerate(system.particles):\n",
    "        particle.position = system.positions[i]\n",
    "\n",
    "    return energies"
   ]
  },
  {
   "cell_type": "code",
   "execution_count": 8,
   "id": "859f55e0",
   "metadata": {},
   "outputs": [],
   "source": [
    "def simulate_dynamics(system, dt=0.1, n_steps=1000, initial_velocities=None, temperature=0.1, verbose=False\\\n",
    "                      ,skip=100, out_trj = 'trjout.xtc'):\n",
    "    n_particles = len(system.particles)\n",
    "    masses = np.array([particle.mass for particle in system.particles])\n",
    "    if initial_velocities is None:\n",
    "        velocities = np.zeros((n_particles, 3))\n",
    "    elif initial_velocities == \"MB\":\n",
    "        velocities = np.random.normal(0, np.sqrt(temperature), (n_particles, 3))\n",
    "    else:\n",
    "        velocities = initial_velocities\n",
    "\n",
    "    penergy = system.potential_energy()\n",
    "    kenergy = system.kinetic_energy(velocities)\n",
    "    PDB = f'system_{system.n_cells}cells_min.pdb'\n",
    "    u = md.Universe(PDB)\n",
    "    protein = u.select_atoms(\"name CA\")\n",
    "    with md.Writer( out_trj, protein.n_atoms) as W:\n",
    "        penergy_trajectory = []\n",
    "        kenergy_trajectory = []\n",
    "        for i in range(n_steps):\n",
    "            # Remove center of mass motion\n",
    "            com_velocity = np.sum(masses[:, None] * velocities, axis=0) / np.sum(masses)\n",
    "            velocities -= com_velocity\n",
    "\n",
    "            # Calculate forces\n",
    "            system.calculate_bonded_forces()\n",
    "            bonded_forces = system.forces\n",
    "            vdw_forces = system.calculate_vdw_forces()\n",
    "            forces = bonded_forces + vdw_forces\n",
    "\n",
    "            # Update positions\n",
    "            system.positions += velocities * dt + 0.5 * forces * dt ** 2 / masses[:, None]\n",
    "\n",
    "            # Apply periodic boundary conditions\n",
    "            system.positions = system.positions % system.box_dimensions\n",
    "\n",
    "            # Calculate new forces\n",
    "            system.calculate_bonded_forces()\n",
    "            new_forces = system.forces\n",
    "\n",
    "            # Update velocities\n",
    "            velocities += 0.5 * (forces + new_forces) * dt / masses[:, None]\n",
    "            \n",
    "            if i%100 == 0:\n",
    "                # Record trajectory and energies\n",
    "                penergy, central, bonded, vdw = system.potential_energy(verbose=True)\n",
    "                kenergy = system.kinetic_energy(velocities)\n",
    "                penergy_trajectory.append([penergy,central, bonded,vdw])\n",
    "                kenergy_trajectory.append(kenergy)\n",
    "                protein.atoms.positions = system.positions\n",
    "                W.write(protein)\n",
    "\n",
    "                if verbose:\n",
    "                    print(f'Iteration: {i}, Potential Energy: {penergy}',end='\\r')\n",
    "\n",
    "        # Update center of mass of each cell\n",
    "        for cell in system.cells:\n",
    "            cell_center_of_mass = np.mean([particle.position for particle in cell.particles], axis=0)\n",
    "            cell.center_of_mass = cell_center_of_mass\n",
    "        # Update positions\n",
    "        for i, particle in enumerate(system.particles):\n",
    "            particle.position = system.positions[i]\n",
    "\n",
    "        return np.array(kenergy_trajectory), np.array(penergy_trajectory)"
   ]
  },
  {
   "cell_type": "code",
   "execution_count": 9,
   "id": "65cf500d",
   "metadata": {},
   "outputs": [],
   "source": [
    "def simulate_nvt_dynamics(system, dt=0.1, n_steps=1000, initial_velocities=None, temperature=0.1,\n",
    "                       collision_frequency=10.0, verbose=False, out_trj = 'trjout.xtc'):\n",
    "    n_particles = len(system.particles)\n",
    "    masses = np.array([particle.mass for particle in system.particles])\n",
    "    if initial_velocities is None:\n",
    "        velocities = np.zeros((n_particles, 3))\n",
    "    elif initial_velocities == \"MB\":\n",
    "        velocities = np.random.normal(0, np.sqrt(temperature), (n_particles, 3))\n",
    "    else:\n",
    "        velocities = initial_velocities\n",
    "\n",
    "    PDB = f'system_{system.n_cells}cells_min.pdb'\n",
    "    u = md.Universe(PDB)\n",
    "    protein = u.select_atoms(\"name CA\")\n",
    "    \n",
    "    penergy_trajectory = []\n",
    "    kenergy_trajectory = []\n",
    "    \n",
    "    with md.Writer( out_trj, protein.n_atoms) as W:\n",
    "        for i in range(n_steps):\n",
    "            # Remove center of mass motion\n",
    "            velocities -= np.sum(masses[:, None] * velocities, axis=0) / np.sum(masses)\n",
    "\n",
    "            # Calculate forces\n",
    "            system.calculate_bonded_forces()\n",
    "            bonded_forces = system.forces\n",
    "            vdw_forces = system.calculate_vdw_forces()\n",
    "            forces = bonded_forces + vdw_forces\n",
    "\n",
    "            # Update positions\n",
    "            system.positions += velocities * dt + 0.5 * forces * dt ** 2 / masses[:, None]\n",
    "\n",
    "            # Apply periodic boundary conditions\n",
    "            system.positions = system.positions % system.box_dimensions\n",
    "\n",
    "            # Calculate new forces\n",
    "            system.calculate_bonded_forces()\n",
    "            new_forces = system.forces\n",
    "\n",
    "            # Update velocities\n",
    "            velocities += 0.5 * (forces + new_forces) * dt / masses[:, None]\n",
    "\n",
    "            # Apply Andersen thermostat\n",
    "            collision_prob = 1 - np.exp(-collision_frequency * dt)\n",
    "            collision_mask = np.random.random(n_particles) < collision_prob\n",
    "            velocities[collision_mask] = np.random.normal(0, np.sqrt(temperature), (np.sum(collision_mask), 3))\n",
    "            \n",
    "            if i%100 == 0:\n",
    "                # Record trajectory and energies\n",
    "                penergy, central, bonded, vdw = system.potential_energy(verbose=True)\n",
    "                kenergy = system.kinetic_energy(velocities)\n",
    "                penergy_trajectory.append([penergy,central, bonded,vdw])\n",
    "                kenergy_trajectory.append(kenergy)\n",
    "                protein.atoms.positions = system.positions\n",
    "                W.write(protein)\n",
    "                \n",
    "                if verbose:\n",
    "                    print(f'Iteration: {i}, Potential Energy: {penergy}',end='\\r')\n",
    "\n",
    "        return np.array(kenergy_trajectory), np.array(penergy_trajectory)\n"
   ]
  },
  {
   "cell_type": "code",
   "execution_count": 10,
   "id": "d34dde1c",
   "metadata": {},
   "outputs": [],
   "source": [
    "def simulate_npt_dynamics(system, dt=0.1, n_steps=1000, initial_velocities=None, temperature=0.1,\n",
    "                          collision_frequency=10.0, pressure=1.0, barostat_frequency=10,\n",
    "                          verbose=False, out_trj='trjout.xtc'):\n",
    "    n_particles = len(system.particles)\n",
    "    masses = np.array([particle.mass for particle in system.particles])\n",
    "    if initial_velocities is None:\n",
    "        velocities = np.zeros((n_particles, 3))\n",
    "    elif initial_velocities == \"MB\":\n",
    "        velocities = np.random.normal(0, np.sqrt(temperature), (n_particles, 3))\n",
    "    else:\n",
    "        velocities = initial_velocities\n",
    "\n",
    "    PDB = f'system_{system.n_cells}cells_min.pdb'\n",
    "    u = md.Universe(PDB)\n",
    "    protein = u.select_atoms(\"name CA\")\n",
    "\n",
    "    penergy_trajectory = []\n",
    "    kenergy_trajectory = []\n",
    "\n",
    "    with md.Writer(out_trj, protein.n_atoms) as W:\n",
    "        for i in range(n_steps):\n",
    "            # Remove center of mass motion\n",
    "            com_velocity = np.sum(masses[:, None] * velocities, axis=0) / np.sum(masses)\n",
    "            velocities -= com_velocity\n",
    "\n",
    "            # Calculate forces\n",
    "            system.calculate_bonded_forces()\n",
    "            bonded_forces = system.forces\n",
    "            vdw_forces = system.calculate_vdw_forces()\n",
    "            forces = bonded_forces + vdw_forces\n",
    "\n",
    "            # Update positions\n",
    "            system.positions += velocities * dt + 0.5 * forces * dt ** 2 / masses[:, None]\n",
    "\n",
    "            # Apply periodic boundary conditions\n",
    "            system.positions = system.positions % system.box_dimensions\n",
    "\n",
    "            # Calculate new forces\n",
    "            system.calculate_bonded_forces()\n",
    "            new_forces = system.forces\n",
    "\n",
    "            # Update velocities\n",
    "            velocities += 0.5 * (forces + new_forces) * dt / masses[:, None]\n",
    "\n",
    "            # Apply Andersen thermostat\n",
    "            collision_prob = 1 - np.exp(-collision_frequency * dt)\n",
    "            collision_mask = np.random.random(n_particles) < collision_prob\n",
    "            velocities[collision_mask] = np.random.normal(0, np.sqrt(temperature), (np.sum(collision_mask), 3))\n",
    "\n",
    "            # Apply Monte Carlo barostat\n",
    "            if i % barostat_frequency == 0:\n",
    "                volume = np.prod(system.box_dimensions)\n",
    "                old_energy = system.potential_energy()\n",
    "                delta_volume = np.random.uniform(-0.1 * volume, 0.1 * volume)\n",
    "                new_volume = volume + delta_volume\n",
    "                scaling_factor = (new_volume / volume) ** (1 / 3)\n",
    "                system.box_dimensions *= scaling_factor\n",
    "                u.dimensions[:3] = system.box_dimensions\n",
    "                system.positions *= scaling_factor\n",
    "                new_energy = system.potential_energy()\n",
    "                delta_energy = new_energy - old_energy\n",
    "                acceptance_probability = np.exp(-delta_energy / temperature) * (new_volume / volume) ** (\n",
    "                            n_particles + 1) * np.exp(-pressure * delta_volume / temperature)\n",
    "                if np.random.random() > acceptance_probability:\n",
    "                    system.box_dimensions /= scaling_factor\n",
    "                    system.positions /= scaling_factor\n",
    "\n",
    "            if i % 100 == 0:\n",
    "                # Record trajectory and energies\n",
    "                penergy, central, bonded, vdw = system.potential_energy(verbose=True)\n",
    "                kenergy = system.kinetic_energy(velocities)\n",
    "                penergy_trajectory.append([penergy, central, bonded, vdw])\n",
    "                kenergy_trajectory.append(kenergy)\n",
    "                protein.atoms.positions = system.positions\n",
    "                W.write(protein)\n",
    "                #instantaneous_pressure = (2 * kenergy - 3 * (kenergy+penergy)) / (3 * volume)\n",
    "                #instantaneous_temperature = (2 * kenergy) / (3 * n_particles * k_B)\n",
    "\n",
    "                if verbose:\n",
    "                    print(f'Iteration: {i}, Potential Energy: {penergy}', end='\\r')\n",
    "\n",
    "        return np.array(kenergy_trajectory), np.array(penergy_trajectory)\n"
   ]
  },
  {
   "cell_type": "code",
   "execution_count": 11,
   "id": "2918aa76",
   "metadata": {},
   "outputs": [],
   "source": [
    "def write_pdb(system, filename):\n",
    "    with open(filename, 'w') as f:\n",
    "        # Write box dimensions to PDB file\n",
    "        f.write(f\"CRYST1{system.box_dimensions[0]:9.3f}{system.box_dimensions[1]:9.3f\\\n",
    "}{system.box_dimensions[2]:9.3f}  90.00  90.00  90.00 P 1           1\\n\")\n",
    "\n",
    "        # Write particle coordinates to PDB file\n",
    "        atom_index = 1\n",
    "        for cell_index, cell in enumerate(system.cells):\n",
    "            chain_id = chr(cell_index + 65)  # Convert cell index to chain ID (A,B,C,...)\n",
    "\n",
    "            for particle in cell.particles:\n",
    "                x, y, z = particle.position\n",
    "                f.write(f\"HETATM{atom_index:>5}  CA  ALA {chain_id}{atom_index:>4\\\n",
    "}    {x:>8.3f}{y:>8.3f}{z:>8.3f}  1.00 20.00           C  \\n\")\n",
    "                atom_index += 1\n",
    "            f.write(f\"TER\\n\")"
   ]
  },
  {
   "cell_type": "code",
   "execution_count": 12,
   "id": "6ea119ed",
   "metadata": {},
   "outputs": [],
   "source": [
    "# particle itp\n",
    "\n",
    "particle_type = {'base':{'type':'base','knn':0.01,'r_vdw':0.05,'charge':0, 'mass':1}}\n",
    "\n",
    "\n",
    "# cell_itp\n",
    "\n",
    "cell_type = {'base':{'type':'base', 'kc':0.5, 'radius':2, 'num_particles': 100, \\\n",
    "                     'particle_type':'base','n_neighbors':6}}\n",
    "\n",
    "# Create a system with 8 cells\n",
    "n_cells = 4\n",
    "system = System(n_cells=n_cells)\n",
    "write_pdb(system,f'system_{n_cells}cells.pdb')"
   ]
  },
  {
   "cell_type": "code",
   "execution_count": 13,
   "id": "612ed135",
   "metadata": {},
   "outputs": [
    {
     "data": {
      "text/plain": [
       "(36025.89297257279,\n",
       " 1.2350603547366466e-29,\n",
       " 0.9725372420865277,\n",
       " 36024.9204353307)"
      ]
     },
     "execution_count": 13,
     "metadata": {},
     "output_type": "execute_result"
    }
   ],
   "source": [
    "system.potential_energy(verbose=True)"
   ]
  },
  {
   "cell_type": "code",
   "execution_count": 14,
   "id": "1a10c54e",
   "metadata": {},
   "outputs": [
    {
     "name": "stdout",
     "output_type": "stream",
     "text": [
      "Step: 99, Potential Energy: 347.74363482619384\r"
     ]
    }
   ],
   "source": [
    "energies = minimize_energy(system,verbose=True, n_steps= 100)"
   ]
  },
  {
   "cell_type": "code",
   "execution_count": 15,
   "id": "999ceefc",
   "metadata": {},
   "outputs": [
    {
     "data": {
      "text/plain": [
       "[<matplotlib.lines.Line2D at 0x213edd8a2d0>]"
      ]
     },
     "execution_count": 15,
     "metadata": {},
     "output_type": "execute_result"
    },
    {
     "data": {
      "image/png": "[encoded data removed]",
      "text/plain": [
       "<Figure size 640x480 with 1 Axes>"
      ]
     },
     "metadata": {},
     "output_type": "display_data"
    }
   ],
   "source": [
    "plt.plot(energies)"
   ]
  },
  {
   "cell_type": "code",
   "execution_count": 16,
   "id": "32e82903",
   "metadata": {},
   "outputs": [],
   "source": [
    "write_pdb(system,f'system_{system.n_cells}cells_min.pdb')"
   ]
  },
  {
   "cell_type": "code",
   "execution_count": 29,
   "id": "e9979e4e",
   "metadata": {},
   "outputs": [
    {
     "name": "stderr",
     "output_type": "stream",
     "text": [
      "c:\\Users\\Mats\\miniconda3\\envs\\CELL\\Lib\\site-packages\\MDAnalysis\\coordinates\\XTC.py:105: UserWarning: Reader has no dt information, set to 1.0 ps\n",
      "  time = ts.time\n"
     ]
    },
    {
     "name": "stdout",
     "output_type": "stream",
     "text": [
      "Iteration: 900, Potential Energy: 46.34760769710725\r"
     ]
    },
    {
     "ename": "AttributeError",
     "evalue": "'list' object has no attribute 'positions'",
     "output_type": "error",
     "traceback": [
      "\u001b[1;31m---------------------------------------------------------------------------\u001b[0m",
      "\u001b[1;31mAttributeError\u001b[0m                            Traceback (most recent call last)",
      "Cell \u001b[1;32mIn[29], line 1\u001b[0m\n\u001b[1;32m----> 1\u001b[0m ke, pe \u001b[39m=\u001b[39m simulate_dynamics(system,n_steps \u001b[39m=\u001b[39;49m \u001b[39m1000\u001b[39;49m, verbose\u001b[39m=\u001b[39;49m\u001b[39mTrue\u001b[39;49;00m, dt \u001b[39m=\u001b[39;49m \u001b[39m0.001\u001b[39;49m, \\\n\u001b[0;32m      2\u001b[0m                                  temperature \u001b[39m=\u001b[39;49m \u001b[39m0.01\u001b[39;49m, initial_velocities\u001b[39m=\u001b[39;49m\u001b[39m'\u001b[39;49m\u001b[39mMB\u001b[39;49m\u001b[39m'\u001b[39;49m, \\\n\u001b[0;32m      3\u001b[0m                            out_trj \u001b[39m=\u001b[39;49m \u001b[39mf\u001b[39;49m\u001b[39m'\u001b[39;49m\u001b[39msystem_\u001b[39;49m\u001b[39m{\u001b[39;49;00msystem\u001b[39m.\u001b[39;49mn_cells\u001b[39m}\u001b[39;49;00m\u001b[39mcells_nve_eq.xtc\u001b[39;49m\u001b[39m'\u001b[39;49m)\n\u001b[0;32m      4\u001b[0m \u001b[39m#\u001b[39;00m\n\u001b[0;32m      5\u001b[0m \u001b[39m#\u001b[39;00m\n",
      "Cell \u001b[1;32mIn[28], line 65\u001b[0m, in \u001b[0;36msimulate_dynamics\u001b[1;34m(system, dt, n_steps, initial_velocities, temperature, verbose, skip, out_trj)\u001b[0m\n\u001b[0;32m     62\u001b[0m     system\u001b[39m.\u001b[39mcenter_of_mass \u001b[39m=\u001b[39m cell_center_of_masses\n\u001b[0;32m     64\u001b[0m     \u001b[39m# Update positions\u001b[39;00m\n\u001b[1;32m---> 65\u001b[0m     system\u001b[39m.\u001b[39;49mparticles\u001b[39m.\u001b[39;49mpositions \u001b[39m=\u001b[39m system\u001b[39m.\u001b[39mpositions\n\u001b[0;32m     67\u001b[0m \u001b[39mreturn\u001b[39;00m np\u001b[39m.\u001b[39marray(kenergy_trajectory), np\u001b[39m.\u001b[39marray(penergy_trajectory)\n",
      "\u001b[1;31mAttributeError\u001b[0m: 'list' object has no attribute 'positions'"
     ]
    }
   ],
   "source": [
    "ke, pe = simulate_dynamics(system,n_steps = 1000, verbose=True, dt = 0.001, \\\n",
    "                                 temperature = 0.01, initial_velocities='MB', \\\n",
    "                           out_trj = f'system_{system.n_cells}cells_nve_eq.xtc')\n",
    "#\n",
    "#"
   ]
  },
  {
   "cell_type": "code",
   "execution_count": 18,
   "id": "45a8471a",
   "metadata": {},
   "outputs": [
    {
     "data": {
      "text/plain": [
       "<matplotlib.legend.Legend at 0x213ede11dd0>"
      ]
     },
     "execution_count": 18,
     "metadata": {},
     "output_type": "execute_result"
    },
    {
     "data": {
      "image/png": "[encoded data removed]",
      "text/plain": [
       "<Figure size 640x480 with 1 Axes>"
      ]
     },
     "metadata": {},
     "output_type": "display_data"
    }
   ],
   "source": [
    "plt.plot(pe[:,0], label = 'Total PE')\n",
    "plt.plot(ke, label = 'Total KE')\n",
    "plt.legend()"
   ]
  },
  {
   "cell_type": "code",
   "execution_count": 19,
   "id": "5ef28ef0",
   "metadata": {},
   "outputs": [
    {
     "data": {
      "text/plain": [
       "<matplotlib.legend.Legend at 0x213edeb05d0>"
      ]
     },
     "execution_count": 19,
     "metadata": {},
     "output_type": "execute_result"
    },
    {
     "data": {
      "image/png": "[encoded data removed]",
      "text/plain": [
       "<Figure size 640x480 with 1 Axes>"
      ]
     },
     "metadata": {},
     "output_type": "display_data"
    }
   ],
   "source": [
    "plt.plot(pe[:,1], label = 'Central PE')\n",
    "plt.plot(pe[:,2], label = 'Bonded PE')\n",
    "plt.plot(pe[:,3], label = 'VdW PE')\n",
    "plt.legend()"
   ]
  },
  {
   "cell_type": "code",
   "execution_count": 20,
   "id": "526bb7e1",
   "metadata": {},
   "outputs": [
    {
     "data": {
      "text/plain": [
       "[<matplotlib.lines.Line2D at 0x213f0080b50>]"
      ]
     },
     "execution_count": 20,
     "metadata": {},
     "output_type": "execute_result"
    },
    {
     "data": {
      "image/png": "[encoded data removed]",
      "text/plain": [
       "<Figure size 640x480 with 1 Axes>"
      ]
     },
     "metadata": {},
     "output_type": "display_data"
    }
   ],
   "source": [
    "plt.plot(ke)\n",
    "plt.plot((pe[:,0]+ke))"
   ]
  },
  {
   "cell_type": "code",
   "execution_count": 21,
   "id": "147e1fe0",
   "metadata": {},
   "outputs": [
    {
     "name": "stdout",
     "output_type": "stream",
     "text": [
      "Iteration: 900, Potential Energy: 56.094202168557235\r"
     ]
    }
   ],
   "source": [
    "ke, pe = simulate_nvt_dynamics(system,n_steps = 1000, verbose=True, dt = 0.01, \\\n",
    "                                 temperature = 0.01, initial_velocities='MB', \\\n",
    "                           out_trj = f'system_{system.n_cells}cells_nvt_prod.xtc')\n",
    "#\n",
    "#"
   ]
  },
  {
   "cell_type": "code",
   "execution_count": 22,
   "id": "cc13da5f",
   "metadata": {},
   "outputs": [
    {
     "data": {
      "text/plain": [
       "<matplotlib.legend.Legend at 0x213f006c910>"
      ]
     },
     "execution_count": 22,
     "metadata": {},
     "output_type": "execute_result"
    },
    {
     "data": {
      "image/png": "[encoded data removed]",
      "text/plain": [
       "<Figure size 640x480 with 1 Axes>"
      ]
     },
     "metadata": {},
     "output_type": "display_data"
    }
   ],
   "source": [
    "plt.plot(pe[:,1], label = 'Central PE')\n",
    "plt.plot(pe[:,2], label = 'Bonded PE')\n",
    "plt.plot(pe[:,3], label = 'VdW PE')\n",
    "plt.legend()"
   ]
  },
  {
   "cell_type": "code",
   "execution_count": 23,
   "id": "20c9f335",
   "metadata": {},
   "outputs": [
    {
     "data": {
      "text/plain": [
       "[<matplotlib.lines.Line2D at 0x213edf3cc90>]"
      ]
     },
     "execution_count": 23,
     "metadata": {},
     "output_type": "execute_result"
    },
    {
     "data": {
      "image/png": "[encoded data removed]",
      "text/plain": [
       "<Figure size 640x480 with 1 Axes>"
      ]
     },
     "metadata": {},
     "output_type": "display_data"
    }
   ],
   "source": [
    "plt.plot(ke)\n",
    "plt.plot((pe[:,0]+ke))"
   ]
  },
  {
   "cell_type": "code",
   "execution_count": 24,
   "id": "a49ad38d",
   "metadata": {},
   "outputs": [
    {
     "name": "stdout",
     "output_type": "stream",
     "text": [
      "Iteration: 14500, Potential Energy: 41.463482960290056\r"
     ]
    },
    {
     "ename": "KeyboardInterrupt",
     "evalue": "",
     "output_type": "error",
     "traceback": [
      "\u001b[1;31m---------------------------------------------------------------------------\u001b[0m",
      "\u001b[1;31mKeyboardInterrupt\u001b[0m                         Traceback (most recent call last)",
      "Cell \u001b[1;32mIn[24], line 1\u001b[0m\n\u001b[1;32m----> 1\u001b[0m ke, pe \u001b[39m=\u001b[39m simulate_npt_dynamics(system,n_steps \u001b[39m=\u001b[39;49m \u001b[39m100000\u001b[39;49m, verbose\u001b[39m=\u001b[39;49m\u001b[39mTrue\u001b[39;49;00m, dt \u001b[39m=\u001b[39;49m \u001b[39m0.1\u001b[39;49m, \\\n\u001b[0;32m      2\u001b[0m                                  temperature \u001b[39m=\u001b[39;49m \u001b[39m0.01\u001b[39;49m, pressure\u001b[39m=\u001b[39;49m \u001b[39m0.04\u001b[39;49m, initial_velocities\u001b[39m=\u001b[39;49m\u001b[39m'\u001b[39;49m\u001b[39mMB\u001b[39;49m\u001b[39m'\u001b[39;49m, \\\n\u001b[0;32m      3\u001b[0m                            out_trj \u001b[39m=\u001b[39;49m \u001b[39mf\u001b[39;49m\u001b[39m'\u001b[39;49m\u001b[39msystem_\u001b[39;49m\u001b[39m{\u001b[39;49;00msystem\u001b[39m.\u001b[39;49mn_cells\u001b[39m}\u001b[39;49;00m\u001b[39mcells_npt_prod.xtc\u001b[39;49m\u001b[39m'\u001b[39;49m)\n\u001b[0;32m      4\u001b[0m \u001b[39m#\u001b[39;00m\n\u001b[0;32m      5\u001b[0m \u001b[39m#\u001b[39;00m\n",
      "Cell \u001b[1;32mIn[10], line 39\u001b[0m, in \u001b[0;36msimulate_npt_dynamics\u001b[1;34m(system, dt, n_steps, initial_velocities, temperature, collision_frequency, pressure, barostat_frequency, verbose, out_trj)\u001b[0m\n\u001b[0;32m     36\u001b[0m system\u001b[39m.\u001b[39mpositions \u001b[39m=\u001b[39m system\u001b[39m.\u001b[39mpositions \u001b[39m%\u001b[39m system\u001b[39m.\u001b[39mbox_dimensions\n\u001b[0;32m     38\u001b[0m \u001b[39m# Calculate new forces\u001b[39;00m\n\u001b[1;32m---> 39\u001b[0m system\u001b[39m.\u001b[39;49mcalculate_bonded_forces()\n\u001b[0;32m     40\u001b[0m new_forces \u001b[39m=\u001b[39m system\u001b[39m.\u001b[39mforces\n\u001b[0;32m     42\u001b[0m \u001b[39m# Update velocities\u001b[39;00m\n",
      "Cell \u001b[1;32mIn[6], line 113\u001b[0m, in \u001b[0;36mSystem.calculate_bonded_forces\u001b[1;34m(self)\u001b[0m\n\u001b[0;32m    110\u001b[0m                     \u001b[39m#(particle.r_vdw + neighbor_particle.r_vdw) / 2\u001b[39;00m\n\u001b[0;32m    111\u001b[0m                     \u001b[39mself\u001b[39m\u001b[39m.\u001b[39mbonded_neighbor\u001b[39m.\u001b[39mappend([\u001b[39mint\u001b[39m(particle\u001b[39m.\u001b[39mindex), \u001b[39mint\u001b[39m(neighbor_particle\u001b[39m.\u001b[39mindex), k, r0])\n\u001b[1;32m--> 113\u001b[0m \u001b[39mdef\u001b[39;00m \u001b[39mcalculate_bonded_forces\u001b[39m(\u001b[39mself\u001b[39m):\n\u001b[0;32m    114\u001b[0m     \u001b[39m# Reset forces to zero\u001b[39;00m\n\u001b[0;32m    115\u001b[0m     \u001b[39mself\u001b[39m\u001b[39m.\u001b[39mforces\u001b[39m.\u001b[39mfill(\u001b[39m0\u001b[39m)\n\u001b[0;32m    117\u001b[0m     \u001b[39m# Calculate forces from bonded_central interactions\u001b[39;00m\n",
      "\u001b[1;31mKeyboardInterrupt\u001b[0m: "
     ]
    }
   ],
   "source": [
    "ke, pe = simulate_npt_dynamics(system,n_steps = 100000, verbose=True, dt = 0.1, \\\n",
    "                                 temperature = 0.01, pressure= 0.04, initial_velocities='MB', \\\n",
    "                           out_trj = f'system_{system.n_cells}cells_npt_prod.xtc')\n",
    "#\n",
    "#"
   ]
  },
  {
   "cell_type": "code",
   "execution_count": null,
   "id": "5eac19ae",
   "metadata": {},
   "outputs": [],
   "source": [
    "plt.plot(pe[:,1], label = 'Central PE')\n",
    "plt.plot(pe[:,2], label = 'Bonded PE')\n",
    "plt.plot(pe[:,3], label = 'VdW PE')\n",
    "plt.legend()"
   ]
  },
  {
   "cell_type": "code",
   "execution_count": null,
   "id": "6db7b302",
   "metadata": {},
   "outputs": [],
   "source": [
    "plt.plot(ke)\n",
    "plt.plot((pe[:,0]+ke))"
   ]
  },
  {
   "attachments": {},
   "cell_type": "markdown",
   "id": "a190a4a7",
   "metadata": {},
   "source": [
    "# Working parameter sets\n",
    "\n",
    "dt = 0.001\n",
    "kc = 10\n",
    "knn = 1\n",
    "cell_spacing = 1.5 * 2 * largest_vdw_radius + 2*self.largest_radius\n",
    "box_spacing = 100 * 2 * largest_vdw_radius\n",
    "vdw_cutoff = 1  #vdw_cutoff\n",
    "vdw_epsilon = 0.001 #vdw_epsilon\n",
    "vdw_sigma = 0.1 #vdw_sigma\n",
    "temp = 0.001"
   ]
  },
  {
   "attachments": {},
   "cell_type": "markdown",
   "id": "60b56a49",
   "metadata": {},
   "source": [
    "# Another set\n",
    "\n",
    "dt = 0.001,  temperature = 0.1, initial_velocities='MB'\n",
    "\n",
    "# particle itp\n",
    "\n",
    "particle_type = {'base':{'type':'base','knn':10,'r_vdw':0.05,'charge':0, 'mass':2}}\n",
    "\n",
    "\n",
    "# cell_itp\n",
    "\n",
    "cell_type = {'base':{'type':'base', 'kc':100, 'radius':2, 'num_particles': 50, \\\n",
    "                     'particle_type':'base','n_neighbors':6}}"
   ]
  }
 ],
 "metadata": {
  "kernelspec": {
   "display_name": "Python 3 (ipykernel)",
   "language": "python",
   "name": "python3"
  },
  "language_info": {
   "codemirror_mode": {
    "name": "ipython",
    "version": 3
   },
   "file_extension": ".py",
   "mimetype": "text/x-python",
   "name": "python",
   "nbconvert_exporter": "python",
   "pygments_lexer": "ipython3",
   "version": "3.11.4"
  }
 },
 "nbformat": 4,
 "nbformat_minor": 5
}
